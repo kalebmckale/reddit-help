{
 "cells": [
  {
   "cell_type": "markdown",
   "metadata": {},
   "source": [
    "# Reddit Help #4"
   ]
  },
  {
   "cell_type": "code",
   "execution_count": 1,
   "metadata": {},
   "outputs": [
    {
     "data": {
      "text/plain": [
       "2"
      ]
     },
     "execution_count": 1,
     "metadata": {},
     "output_type": "execute_result"
    }
   ],
   "source": [
    "import itertools as it\n",
    "len(set(it.chain.from_iterable(t.split(\" \") for t in [\"a b\", \"b\"])))"
   ]
  },
  {
   "cell_type": "code",
   "execution_count": 2,
   "metadata": {},
   "outputs": [
    {
     "name": "stdout",
     "output_type": "stream",
     "text": [
      "['10', '2023', '11', '34', '1']\n"
     ]
    }
   ],
   "source": [
    "import re\n",
    "\n",
    "pattern = re.compile(\"[0-9]+\")\n",
    "\n",
    "test = \"my 10character student number for this2023 year is 11ag34it1b\"\n",
    "\n",
    "num_list = pattern.findall(test)\n",
    "\n",
    "print(num_list)"
   ]
  },
  {
   "cell_type": "code",
   "execution_count": 3,
   "metadata": {},
   "outputs": [
    {
     "name": "stdout",
     "output_type": "stream",
     "text": [
      "What is your name?  K\n",
      "Welcome to the random number guessing game, K! 😄\n",
      "Try to guess the random number between 1 and 10.  5\n",
      "It's higher ⬆\n",
      "Try to guess the random number between 1 and 10.  7\n",
      "It's higher ⬆\n",
      "Try to guess the random number between 1 and 10.  8\n",
      "It's higher ⬆\n",
      "Try to guess the random number between 1 and 10.  9\n",
      "It's higher ⬆\n",
      "Try to guess the random number between 1 and 10.  10\n",
      "Got it! 🥳\n",
      "It took 5 attempts to get the correct number.\n",
      "Game over 👋.\n",
      "Thank you for playing, K 😄\n",
      "You set the high score! 🤩\n",
      "The current high score is 5 🤗\n",
      "Would you like to play again? Y/N?  N\n",
      "Thank you for playing the random number guessing game, K 😸\n"
     ]
    }
   ],
   "source": [
    "import random\n",
    "\n",
    "# game parameters\n",
    "GAME = \"random number guessing game\"\n",
    "MIN = 1\n",
    "MAX = 10\n",
    "\n",
    "# input prompts\n",
    "NAME = \"What is your name?  \"\n",
    "GUESS = f\"Try to guess the random number between {MIN} and {MAX}.  \"\n",
    "REPLAY = \"Would you like to play again? Y/N?  \"\n",
    "\n",
    "# messages\n",
    "WELCOME = f\"Welcome to the {GAME}, {{}}! 😄\"\n",
    "WIN = [\n",
    "    \"Got it! 🥳\",\n",
    "    \"It took {} attempt{} to get the correct number.\",\n",
    "    \"Game over 👋.\",\n",
    "    \"Thank you for playing, {} 😄\",\n",
    "]\n",
    "INVALID = [\n",
    "    \"Oh no! That's not a valid number 😕. Try again...\",\n",
    "    \"({})\",\n",
    "]\n",
    "RANGE = (\n",
    "    \"{} is out of range 😕 the random number is between \"\n",
    "    f\"{MIN} and {MAX}\"\n",
    ")\n",
    "THANKS = f\"Thank you for playing the {GAME}, {{}} 😸\"\n",
    "\n",
    "\n",
    "def get_guess(name, answer):\n",
    "    attempts = 0\n",
    "    while True:\n",
    "        attempts += 1\n",
    "        try:\n",
    "            if (guess := int(input(prompt=GUESS))) not in range(MIN, MAX + 1):\n",
    "                # Handle out of range guesses\n",
    "                raise ValueError(RANGE.format(guess))\n",
    "        except ValueError as err:\n",
    "            # Handle invalid input guesses\n",
    "            print(\"\\n\".join(INVALID).format(err))\n",
    "            continue\n",
    "        \n",
    "        if guess == answer:\n",
    "            # Handle correct guess\n",
    "            plural = \"\" if attempts == 1 else \"s\"\n",
    "            print(\"\\n\".join(WIN).format(attempts, plural, name))\n",
    "            return attempts\n",
    "\n",
    "        print(\"It's lower ⬇\" if guess > answer else \"It's higher ⬆\")\n",
    "\n",
    "\n",
    "def main():\n",
    "    high_score = MAX - MIN + 1\n",
    "\n",
    "    name = input(prompt=NAME) or \"Nobody\"\n",
    "    print(WELCOME.format(name))\n",
    "\n",
    "    while True:\n",
    "        # Set new random number before each round\n",
    "        attempts = get_guess(name, random.randint(MIN, MAX))\n",
    "\n",
    "        # Set and display high score\n",
    "        if attempts < high_score:\n",
    "            high_score = attempts\n",
    "            print(\"You set the high score! 🤩\")\n",
    "\n",
    "        print(f\"The current high score is {high_score} 🤗\")\n",
    "\n",
    "        # Prompt player if they would like to replay\n",
    "        while (replay_choice := (input(prompt=REPLAY)).lower()) != \"n\":\n",
    "            if replay_choice == \"y\":\n",
    "                break\n",
    "            else:\n",
    "                # Handle invalid input\n",
    "                print('Oops 😕 ... please enter either \"Y\" or \"N\"')\n",
    "        else:\n",
    "            print(THANKS.format(name))\n",
    "            return\n",
    "\n",
    "if __name__ == \"__main__\":\n",
    "    main()"
   ]
  },
  {
   "cell_type": "code",
   "execution_count": 4,
   "metadata": {},
   "outputs": [
    {
     "data": {
      "text/plain": [
       "<function list.index(value, start=0, stop=9223372036854775807, /)>"
      ]
     },
     "execution_count": 4,
     "metadata": {},
     "output_type": "execute_result"
    }
   ],
   "source": [
    "l = ['j', 'k', 'l']\n",
    "l.index"
   ]
  },
  {
   "cell_type": "code",
   "execution_count": 5,
   "metadata": {},
   "outputs": [
    {
     "name": "stdout",
     "output_type": "stream",
     "text": [
      "What is your name?  K\n",
      "Welcome to the random number guessing game, K! 😄\n",
      "Try to guess the random number between 1 and 10.  5\n",
      "It's lower ⬇\n",
      "Try to guess the random number between 1 and 10.  3\n",
      "It's higher ⬆\n",
      "Try to guess the random number between 1 and 10.  4\n",
      "Got it! 🥳\n",
      "It took 3 attempts to get the correct number.\n",
      "Game over 👋.\n",
      "Thank you for playing, K 😄\n",
      "You set the high score! 🤩\n",
      "The current high score is 3 🤗\n",
      "Would you like to play again? Y/N?  N\n",
      "Thank you for playing the random number guessing game, K 😸\n"
     ]
    }
   ],
   "source": [
    "\"\"\"\n",
    "Python Web Development Techdegree\n",
    "Project 1 - Number Guessing Game\n",
    "--------------------------------\n",
    "\"\"\"\n",
    "\n",
    "import random\n",
    "\n",
    "# game parameters\n",
    "GAME = \"random number guessing game\"\n",
    "MIN = 1\n",
    "MAX = 10\n",
    "\n",
    "# input prompts\n",
    "NAME = \"What is your name?  \"\n",
    "GUESS = f\"Try to guess the random number between {MIN} and {MAX}.  \"\n",
    "REPLAY = \"Would you like to play again? Y/N?  \"\n",
    "\n",
    "# messages\n",
    "WELCOME = f\"Welcome to the {GAME}, {{}}! 😄\"\n",
    "WIN = [\n",
    "    \"Got it! 🥳\",\n",
    "    \"It took {} attempt{} to get the correct number.\",\n",
    "    \"Game over 👋.\",\n",
    "    \"Thank you for playing, {} 😄\",\n",
    "]\n",
    "INVALID = [\n",
    "    \"Oh no! That's not a valid number 😕. Try again...\",\n",
    "    \"({})\",\n",
    "]\n",
    "RANGE = (\n",
    "    \"{} is out of range 😕 the random number is between \"\n",
    "    f\"{MIN} and {MAX}\"\n",
    ")\n",
    "THANKS = f\"Thank you for playing the {GAME}, {{}} 😸\"\n",
    "\n",
    "\n",
    "def get_guess(name, answer):\n",
    "    attempts = 0\n",
    "    while True:\n",
    "        attempts += 1\n",
    "        try:\n",
    "            while (guess := int(input(prompt=GUESS))) not in range(MIN, MAX + 1):\n",
    "                # Handle out of range guesses\n",
    "                print(RANGE.format(guess))\n",
    "\n",
    "        except ValueError as err:\n",
    "            # Handle invalid input guesses\n",
    "            print(\"\\n\".join(INVALID).format(err))\n",
    "            continue\n",
    "\n",
    "        if guess == answer:\n",
    "            # Handle correct guess\n",
    "            plural = \"\" if attempts == 1 else \"s\"\n",
    "            print(\"\\n\".join(WIN).format(attempts, plural, name))\n",
    "            return attempts\n",
    "\n",
    "        print(\"It's lower ⬇\" if guess > answer else \"It's higher ⬆\")\n",
    "\n",
    "\n",
    "def main():\n",
    "    high_score = MAX - MIN + 1\n",
    "\n",
    "    name = input(prompt=NAME) or \"Nobody\"\n",
    "    print(WELCOME.format(name))\n",
    "\n",
    "    while True:\n",
    "        # Set new random number before each round\n",
    "        attempts = get_guess(name, random.randint(MIN, MAX))\n",
    "\n",
    "        # Set and display high score\n",
    "        if attempts < high_score:\n",
    "            high_score = attempts\n",
    "            print(\"You set the high score! 🤩\")\n",
    "\n",
    "        print(f\"The current high score is {high_score} 🤗\")\n",
    "\n",
    "        # Prompt player if they would like to replay\n",
    "        while (replay_choice := (input(prompt=REPLAY)).lower()) != \"n\":\n",
    "            if replay_choice == \"y\":\n",
    "                break\n",
    "            else:\n",
    "                # Handle invalid input\n",
    "                print('Oops 😕 ... please enter either \"Y\" or \"N\"')\n",
    "        else:\n",
    "            print(THANKS.format(name))\n",
    "            return\n",
    "\n",
    "if __name__ == \"__main__\":\n",
    "    main()"
   ]
  },
  {
   "cell_type": "code",
   "execution_count": 6,
   "metadata": {
    "scrolled": true
   },
   "outputs": [
    {
     "name": "stdout",
     "output_type": "stream",
     "text": [
      "0\n",
      "Carpe Diem Carpe Di\n",
      "19\n",
      "1\n",
      "arpe Diem Carpe Die\n",
      "19\n",
      "2\n",
      "rpe Diem Carpe Diem\n",
      "19\n",
      "3\n",
      "pe Diem Carpe Diem \n",
      "19\n",
      "4\n",
      "e Diem Carpe Diem C\n",
      "19\n",
      "5\n",
      " Diem Carpe Diem Ca\n",
      "19\n",
      "6\n",
      "Diem Carpe Diem Car\n",
      "19\n",
      "7\n",
      "iem Carpe Diem Carp\n",
      "19\n",
      "8\n",
      "em Carpe Diem Carpe\n",
      "19\n",
      "9\n",
      "m Carpe Diem Carpe \n",
      "19\n",
      "10\n",
      " Carpe Diem Carpe D\n",
      "19\n",
      "11\n",
      " Carpe Diem Carpe D\n",
      "19\n",
      "12\n",
      " Carpe Diem Carpe D\n",
      "19\n",
      "13\n",
      " Carpe Diem Carpe D\n",
      "19\n",
      "14\n",
      " Carpe Diem Carpe D\n",
      "19\n",
      "15\n",
      " Carpe Diem Carpe D\n",
      "19\n",
      "16\n",
      " Carpe Diem Carpe D\n",
      "19\n",
      "17\n",
      " Carpe Diem Carpe D\n",
      "19\n",
      "18\n",
      " Carpe Diem Carpe D\n",
      "19\n"
     ]
    }
   ],
   "source": [
    "max_length = 19\n",
    "string = \"Carpe Diem\"\n",
    "for shift in range(19):\n",
    "    print(shift)\n",
    "    num_repeats = int((max_length + shift) / len(string)) #round((max_length + shift) / len(string)) - 1\n",
    "    longer_string = f\"{string[shift:]} {' '.join(string for _ in range(num_repeats))}\"\n",
    "    truncated_string = longer_string[:max_length]\n",
    "    print(truncated_string)\n",
    "    print(len(truncated_string))"
   ]
  },
  {
   "cell_type": "raw",
   "metadata": {},
   "source": [
    "Help with Regex implementations in python of file names\n",
    "\n",
    " I have a project I'm working on with obsidian to make more connections between notes. The connections are just \\[\\[filename\\]\\] to reference another file name in the obsidian \"vault\". I'm using it as a way to externalize my college notes for biology and chemistry and there connections. Iterating through the list of files and getting file names is easy. Reading from and writing to each file and using the re.sub() method is also easy. The issue comes with file names like \"bridge\" and \"Warren bridge Truss\" My code checks for a space before and after the filename to mitigate some of these issues, but doesn't catch things like this example. I wrote this regex to work on finding those issues but I'm not sure how to implement it with variables instead of being hard coded. It's a bit messy as it's in the \"get something that works\" stage of development.   \n",
    "\n",
    "\n",
    "regex =  \"(?<!Warren )\\bbridge(?! Truss)\" \n",
    "\n",
    "Note: if there is any code I have forgotten, please let me know. I'll try to reply after I've uploaded it.  \n",
    "\n",
    "\n",
    "[https://github.com/Tyler-Jay-Stevahn/filename\\_regex](https://github.com/Tyler-Jay-Stevahn/filename_regex)"
   ]
  },
  {
   "cell_type": "code",
   "execution_count": 7,
   "metadata": {},
   "outputs": [
    {
     "name": "stdout",
     "output_type": "stream",
     "text": [
      "Before substituting:\n",
      "bob likes to take alice to see the bridge. Her favorite bridge is the Warren bridge Truss.\n",
      "\n",
      "After substituting for bridge:\n",
      "bob likes to take alice to see the [[bridge]]. Her favorite [[bridge]] is the Warren [[bridge]] Truss.\n",
      "\n",
      "After substituting for alice:\n",
      "bob likes to take [[alice]] to see the [[bridge]]. Her favorite [[bridge]] is the Warren [[bridge]] Truss.\n",
      "\n",
      "After substituting for bob:\n",
      "[[bob]] likes to take [[alice]] to see the [[bridge]]. Her favorite [[bridge]] is the Warren [[bridge]] Truss.\n",
      "\n",
      "After substituting for Warren bridge Truss:\n",
      "[[bob]] likes to take [[alice]] to see the [[bridge]]. Her favorite [[bridge]] is the [[Warren bridge Truss]].\n",
      "\n",
      "After substituting for another one:\n",
      "[[bob]] likes to take [[alice]] to see the [[bridge]]. Her favorite [[bridge]] is the [[Warren bridge Truss]].\n",
      "\n",
      "After substituting for yet one more:\n",
      "[[bob]] likes to take [[alice]] to see the [[bridge]]. Her favorite [[bridge]] is the [[Warren bridge Truss]].\n",
      "\n"
     ]
    }
   ],
   "source": [
    "import re\n",
    "\n",
    "text = \"bob likes to take alice to see the bridge. Her favorite bridge is the Warren bridge Truss.\"\n",
    "names = [\"bridge\", \"alice\", \"bob\", \"Warren bridge Truss\", \"another one\", \"yet one more\"]\n",
    "\n",
    "print(f\"Before substituting:\\n{text}\\n\")\n",
    "for name in names:\n",
    "    match_pattern = re.compile(r\" \".join(f\"\\[*\\[*{word}\\]*\\]*\" for word in name.split(\" \")))\n",
    "    text = match_pattern.sub(f\"[[{name}]]\", text)\n",
    "    print(f\"After substituting for {name}:\\n{text}\\n\")"
   ]
  },
  {
   "cell_type": "code",
   "execution_count": 8,
   "metadata": {},
   "outputs": [
    {
     "name": "stdout",
     "output_type": "stream",
     "text": [
      "Before substituting:\n",
      "bob likes to take alice to see the bridge. Her favorite bridge is the Warren bridge Truss.\n",
      "\n",
      "After substituting for bridge:\n",
      "bob likes to take alice to see the [[bridge]]. Her favorite [[bridge]] is the Warren [[bridge]] Truss.\n",
      "\n",
      "After substituting for alice:\n",
      "bob likes to take [[alice]] to see the [[bridge]]. Her favorite [[bridge]] is the Warren [[bridge]] Truss.\n",
      "\n",
      "After substituting for bob:\n",
      "[[bob]] likes to take [[alice]] to see the [[bridge]]. Her favorite [[bridge]] is the Warren [[bridge]] Truss.\n",
      "\n",
      "After substituting for Warren bridge Truss:\n",
      "[[bob]] likes to take [[alice]] to see the [[bridge]]. Her favorite [[bridge]] is the [[Warren bridge Truss]].\n",
      "\n",
      "After substituting for another one:\n",
      "[[bob]] likes to take [[alice]] to see the [[bridge]]. Her favorite [[bridge]] is the [[Warren bridge Truss]].\n",
      "\n",
      "After substituting for yet one more:\n",
      "[[bob]] likes to take [[alice]] to see the [[bridge]]. Her favorite [[bridge]] is the [[Warren bridge Truss]].\n",
      "\n"
     ]
    }
   ],
   "source": [
    "import random\n",
    "import re\n",
    "\n",
    "text = \"bob likes to take alice to see the bridge. Her favorite bridge is the Warren bridge Truss.\"\n",
    "\n",
    "#names = [\"Warren bridge Truss\", \"alice\", \"bob\", \"bridge\", \"another one\", \"yet one more\"]\n",
    "#names = [\"bridge\", \"alice\", \"bob\", \"Warren bridge Truss\", \"another one\", \"yet one more\"]\n",
    "print(f\"Before substituting:\\n{text}\\n\")\n",
    "seen_names = []\n",
    "for name in names:\n",
    "    if re.search(name, \" \".join(seen_names)):\n",
    "        for seen_name in seen_names:\n",
    "            if name in seen_name:\n",
    "                match_pattern = (\n",
    "                    rf\"(?<!{{}})\\b{name}(?!{{}})\".format(*seen_name.split(name))\n",
    "                )\n",
    "                text = re.compile(match_pattern).sub(f\"[[{name}]]\", text)\n",
    "    else:       \n",
    "        match_pattern = r\" \".join(f\"\\[*\\[*{word}\\]*\\]*\" for word in name.split(\" \"))\n",
    "        text = re.compile(match_pattern).sub(f\"[[{name}]]\", text)\n",
    "    if len(name.split(\" \")) > 1:\n",
    "        seen_names.append(name)\n",
    "    print(f\"After substituting for {name}:\\n{text}\\n\")"
   ]
  },
  {
   "cell_type": "code",
   "execution_count": null,
   "metadata": {},
   "outputs": [],
   "source": []
  },
  {
   "cell_type": "raw",
   "metadata": {},
   "source": [
    "How to search strings in Python using a wildcard that represents only a single word -- and not multiple words as well?\n",
    "\n",
    " fnmatch is pretty simple in Python -- however it will output \"True\" whether there is 1, or 100 words, between the words you've put the wildcard between.\n",
    "\n",
    "I'd like to be more narrow than this -- and be able to use some kind of wildcard searching library that let's me specify HOW MANY words I want to be wildcards.\n",
    "\n",
    "So if I used: \"the \\* cat\", it would ONLY include single words like \"the ugly cat\" or \"the furry cat\"\n",
    "\n",
    "But if I used something like: \"the \\*\\* cat\", it would include ONLY two words like \"the very ugly cat\" or \"the extremely furry cat\"\n",
    "\n",
    "Is there any python library that allows this kind of fine-tuned wildcard functionality?\n",
    "\n",
    "Thanks!"
   ]
  },
  {
   "cell_type": "code",
   "execution_count": 9,
   "metadata": {},
   "outputs": [],
   "source": [
    "import re\n",
    "\n",
    "def wildcard(phrase):\n",
    "    \"\"\"\n",
    "    Use * in phrase to indicate the number and location of arbitrary word\n",
    "    matches. Make sure to add spaces between * elements.\n",
    "    \"\"\"\n",
    "\n",
    "    return re.compile(phrase.replace(\"*\", \"\\w+\"))"
   ]
  },
  {
   "cell_type": "code",
   "execution_count": 10,
   "metadata": {},
   "outputs": [
    {
     "name": "stdout",
     "output_type": "stream",
     "text": [
      "Match 'the * cat'?\n",
      "    the cat: False\n",
      "    the ugly cat: True\n",
      "    the furry cat: True\n",
      "    the very ugly cat: False\n",
      "    the extremely furry cat: False\n",
      "    the very extremely furry cat: False\n",
      "\n",
      "Match 'the * * cat'?\n",
      "    the cat: False\n",
      "    the ugly cat: False\n",
      "    the furry cat: False\n",
      "    the very ugly cat: True\n",
      "    the extremely furry cat: True\n",
      "    the very extremely furry cat: False\n",
      "\n",
      "\n",
      "From ChatGPT:\n",
      "    the cat: False\n",
      "    the ugly cat: False\n",
      "    the furry cat: False\n",
      "    the very ugly cat: True\n",
      "    the extremely furry cat: False\n",
      "    the very extremely furry cat: False\n",
      "\n"
     ]
    }
   ],
   "source": [
    "match_phrase0 = \"the * cat\"\n",
    "match_phrase1 = \"the * * cat\"\n",
    "\n",
    "test_phrases = [\n",
    "    \"the cat\",\n",
    "    \"the ugly cat\",\n",
    "    \"the furry cat\",\n",
    "    \"the very ugly cat\",\n",
    "    \"the extremely furry cat\",\n",
    "    \"the very extremely furry cat\",\n",
    "]\n",
    "\n",
    "for match_phrase in [match_phrase0, match_phrase1]:\n",
    "    match_pattern = wildcard(match_phrase)\n",
    "    print(f\"Match '{match_phrase}'?\")\n",
    "    for test_phrase in test_phrases:\n",
    "        print(f\"    {test_phrase}: {bool(match_pattern.match(test_phrase))}\")\n",
    "    print()\n",
    "    \n",
    "ChatGPT_pattern = re.compile(r\"the very \\b\\w+?\\b cat\")\n",
    "\n",
    "print(\"\\nFrom ChatGPT:\")\n",
    "for test_phrase in test_phrases:\n",
    "    print(f\"    {test_phrase}: {bool(ChatGPT_pattern.match(test_phrase))}\")\n",
    "print()\n"
   ]
  },
  {
   "cell_type": "raw",
   "metadata": {},
   "source": [
    "Can anyone help? Can't figure out how to fix this error.\n",
    "\n",
    "Question:\n",
    "Create a new list called ratios where the i'th element of ratios is equal to the growth[i+1]/growth[i]. Because you need to compute ratios from pairs of elements, the list ratios will have one fewer element than the list growth.\n",
    "\n",
    "(pretty much I'm suppose to take the list \"growth\" and use the is formula, growth[i+1]/growth[i], to create a new list called ratios, but i keep getting the error \"list index out of range\")\n",
    "\n",
    "\n",
    "growth = [0.05, 2.5, 113.34, 984.31, 5082.98, \\\n",
    " 18981.26, 52366.83, 132330.2, 270299.59, \\\n",
    " 572061.32, 1059462.16, 1784434.76, 3031206.7, \\\n",
    "5197773.29, 7575099.03, 12255624.49, 17800094.33, \\\n",
    "24561420.03, 34785818.8, 47906857.92, 66781004.47, 85893594.16, \\\n",
    "115653130.53, 151505384.45, 194695707.96, 246379722.3, 310701164.46, \\\n",
    "396663884.62, 493109092.7, 598391193.23]\n",
    "\n",
    "input:                                                                                                                                                                     \n",
    "for i in range(0,len(growth)):                                                                                                                                   \n",
    "    ratios = [growth[i+1]/growth[i]]                                                                                                                            \n",
    "    print(ratios)                                                                                                                                                        \n",
    "\n",
    "output:                                                                                                                                                                   \n",
    "[50.0]\n",
    "[45.336]\n",
    "[8.684577377801306]\n",
    "[5.1640032103707165]\n",
    "[3.734277923580262]\n",
    "[2.7588700644741184]\n",
    "[2.526985116341776]\n",
    "[2.0426145354575147]\n",
    "[2.116397290872694]\n",
    "[1.8520080329849955]\n",
    "[1.6842836180199208]\n",
    "[1.6986929239150217]\n",
    "[1.714753827246423]\n",
    "[1.4573738805756955]\n",
    "[1.6178830720844055]\n",
    "[1.4524020660492674]\n",
    "[1.3798477454473133]\n",
    "[1.4162788127686279]\n",
    "[1.3771950631790217]\n",
    "[1.393975880896177]\n",
    "[1.2861979965962618]\n",
    "[1.3464697997683603]\n",
    "[1.3099981276399608]\n",
    "[1.2850745118187779]\n",
    "[1.2654604710167439]\n",
    "[1.2610662986367038]\n",
    "[1.276673311828115]\n",
    "[1.2431408853175365]\n",
    "[1.2135067109663946]\n",
    "\n",
    "\n",
    "---------------------------------------------------------------------------\n",
    "IndexError                                Traceback (most recent call last)\n",
    "<ipython-input-59-78d550b39bd9> in <module>()\n",
    "      1 growth = [0.05, 2.5, 113.34, 984.31, 5082.98,           18981.26, 52366.83, 132330.2, 270299.59,           572061.32, 1059462.16, 1784434.76, 3031206.7,           5197773.29, 7575099.03, 12255624.49, 17800094.33,           24561420.03, 34785818.8, 47906857.92, 66781004.47, 85893594.16,           115653130.53, 151505384.45, 194695707.96, 246379722.3, 310701164.46,           396663884.62, 493109092.7, 598391193.23]\n",
    "      2 for i in range(0,len(growth)):\n",
    "----> 3     ratios = [growth[i+1]/growth[i]]\n",
    "      4     print(ratios)\n",
    "\n",
    "IndexError: list index out of range"
   ]
  },
  {
   "cell_type": "code",
   "execution_count": 11,
   "metadata": {},
   "outputs": [
    {
     "name": "stdout",
     "output_type": "stream",
     "text": [
      "[50.0, 45.336, 8.684577377801306, 5.1640032103707165, 3.734277923580262, 2.7588700644741184, 2.526985116341776, 2.0426145354575147, 2.116397290872694, 1.8520080329849955, 1.6842836180199208, 1.6986929239150217, 1.714753827246423, 1.4573738805756955, 1.6178830720844055, 1.4524020660492674, 1.3798477454473133, 1.4162788127686279, 1.3771950631790217, 1.393975880896177, 1.2861979965962618, 1.3464697997683603, 1.3099981276399608, 1.2850745118187779, 1.2654604710167439, 1.2610662986367038, 1.276673311828115, 1.2431408853175365, 1.2135067109663946]\n"
     ]
    }
   ],
   "source": [
    "growth = [\n",
    "    0.05, 2.5, 113.34, 984.31, 5082.98, 18981.26, 52366.83,\n",
    "    132330.2, 270299.59, 572061.32, 1059462.16, 1784434.76,\n",
    "    3031206.7, 5197773.29, 7575099.03, 12255624.49, 17800094.33,\n",
    "    24561420.03, 34785818.8, 47906857.92, 66781004.47, 85893594.16,\n",
    "    115653130.53, 151505384.45, 194695707.96, 246379722.3,\n",
    "    310701164.46, 396663884.62, 493109092.7, 598391193.23\n",
    "]\n",
    "ratios = [g2 / g1 for g1, g2 in zip(growth, growth[1:])]\n",
    "\n",
    "print(ratios)"
   ]
  },
  {
   "cell_type": "code",
   "execution_count": 12,
   "metadata": {},
   "outputs": [
    {
     "data": {
      "text/plain": [
       "3"
      ]
     },
     "execution_count": 12,
     "metadata": {},
     "output_type": "execute_result"
    }
   ],
   "source": [
    "num_repeats"
   ]
  },
  {
   "cell_type": "code",
   "execution_count": 13,
   "metadata": {},
   "outputs": [
    {
     "data": {
      "text/plain": [
       "3"
      ]
     },
     "execution_count": 13,
     "metadata": {},
     "output_type": "execute_result"
    }
   ],
   "source": [
    "int((max_length + shift) / len(string))"
   ]
  },
  {
   "cell_type": "code",
   "execution_count": 14,
   "metadata": {},
   "outputs": [
    {
     "name": "stdout",
     "output_type": "stream",
     "text": [
      "2\n",
      "1\n"
     ]
    },
    {
     "data": {
      "text/plain": [
       "1.1"
      ]
     },
     "execution_count": 14,
     "metadata": {},
     "output_type": "execute_result"
    }
   ],
   "source": [
    "for shift in [3]: #range(19):\n",
    "    print(int((max_length + shift) / len(string)))\n",
    "    print(round((max_length + shift - 1) / len(string)) - 1)\n",
    "    \n",
    "(max_length - (len(string) - shift + 1)) / len(string)"
   ]
  },
  {
   "cell_type": "code",
   "execution_count": 15,
   "metadata": {},
   "outputs": [
    {
     "name": "stdout",
     "output_type": "stream",
     "text": [
      "('Carpe Diem Carpe Di', 19)\n",
      "('arpe Diem Carpe Die', 19)\n",
      "('rpe Diem Carpe Diem', 19)\n",
      "('pe Diem Carpe Diem ', 19)\n",
      "('e Diem Carpe Diem C', 19)\n",
      "(' Diem Carpe Diem Ca', 19)\n",
      "('Diem Carpe Diem Car', 19)\n",
      "('iem Carpe Diem Carp', 19)\n",
      "('em Carpe Diem Carpe', 19)\n",
      "('m Carpe Diem Carpe ', 19)\n",
      "(' Carpe Diem Carpe D', 19)\n",
      "('Carpe Diem Carpe Di', 19)\n",
      "('arpe Diem Carpe Die', 19)\n",
      "('rpe Diem Carpe Diem', 19)\n",
      "('pe Diem Carpe Diem ', 19)\n",
      "('e Diem Carpe Diem C', 19)\n",
      "(' Diem Carpe Diem Ca', 19)\n",
      "('Diem Carpe Diem Car', 19)\n",
      "('iem Carpe Diem Carp', 19)\n"
     ]
    }
   ],
   "source": [
    "def char_generator(string, shift=0, max_length=None):\n",
    "    gen_string = f\"{string} \"\n",
    "    length = len(gen_string)\n",
    "    if max_length is None:\n",
    "        max_length = length - 1\n",
    "    for index in range(max_length):\n",
    "        yield gen_string[(index + shift) % length]\n",
    "\n",
    "for shift in range(19):\n",
    "    my_gen = char_generator(\"Carpe Diem\", shift=shift, max_length=19)\n",
    "    print((output := \"\".join(char for char in my_gen), len(output)))"
   ]
  },
  {
   "cell_type": "code",
   "execution_count": 16,
   "metadata": {},
   "outputs": [
    {
     "data": {
      "text/plain": [
       "<generator object char_generator at 0x1471fe240>"
      ]
     },
     "execution_count": 16,
     "metadata": {},
     "output_type": "execute_result"
    }
   ],
   "source": [
    "my_gen"
   ]
  },
  {
   "cell_type": "code",
   "execution_count": 17,
   "metadata": {},
   "outputs": [
    {
     "data": {
      "text/plain": [
       "'<generator object char_generator at 0x1471fe440>'"
      ]
     },
     "execution_count": 17,
     "metadata": {},
     "output_type": "execute_result"
    }
   ],
   "source": [
    "my_gen = char_generator(\"Carpe Diem\", shift=shift, max_length=19)\n",
    "str(my_gen)"
   ]
  },
  {
   "cell_type": "code",
   "execution_count": 18,
   "metadata": {},
   "outputs": [],
   "source": [
    "a = map(\"\".join, my_gen)"
   ]
  },
  {
   "cell_type": "code",
   "execution_count": 19,
   "metadata": {},
   "outputs": [
    {
     "data": {
      "text/plain": [
       "'<map object at 0x147283190>'"
      ]
     },
     "execution_count": 19,
     "metadata": {},
     "output_type": "execute_result"
    }
   ],
   "source": [
    "str(a)"
   ]
  },
  {
   "cell_type": "code",
   "execution_count": 20,
   "metadata": {},
   "outputs": [
    {
     "data": {
      "text/plain": [
       "['i',\n",
       " 'e',\n",
       " 'm',\n",
       " ' ',\n",
       " 'C',\n",
       " 'a',\n",
       " 'r',\n",
       " 'p',\n",
       " 'e',\n",
       " ' ',\n",
       " 'D',\n",
       " 'i',\n",
       " 'e',\n",
       " 'm',\n",
       " ' ',\n",
       " 'C',\n",
       " 'a',\n",
       " 'r',\n",
       " 'p']"
      ]
     },
     "execution_count": 20,
     "metadata": {},
     "output_type": "execute_result"
    }
   ],
   "source": [
    "list(a)"
   ]
  },
  {
   "cell_type": "code",
   "execution_count": 21,
   "metadata": {
    "scrolled": true
   },
   "outputs": [
    {
     "name": "stdout",
     "output_type": "stream",
     "text": [
      "2.4 ms ± 456 µs per loop (mean ± std. dev. of 7 runs, 100 loops each)\n",
      "4.95 ms ± 305 µs per loop (mean ± std. dev. of 7 runs, 100 loops each)\n",
      "11.9 ms ± 228 µs per loop (mean ± std. dev. of 7 runs, 100 loops each)\n",
      "7.58 ms ± 333 µs per loop (mean ± std. dev. of 7 runs, 100 loops each)\n"
     ]
    }
   ],
   "source": [
    "from collections import Counter\n",
    "import itertools as it\n",
    "import random\n",
    "import string\n",
    "\n",
    "my_dict = Counter(map(\"\".join, it.product(random.choices(population=string.ascii_letters, k=1000), repeat=3)))\n",
    "\n",
    "%timeit v = list(my_dict.values())\n",
    "%timeit v = [val for val in my_dict.values()]\n",
    "%timeit v = list(my_dict.items())\n",
    "%timeit v = [val for key, val in my_dict.items()]\n",
    "\n",
    "#my_dict = dict(zip(range(1000), map(str, range(1000))))\n",
    "\n",
    "#%timeit v = list(my_dict.values())\n",
    "#%timeit v = [val for val in my_dict.values()]\n",
    "#%timeit v = list(my_dict.items())\n",
    "#%timeit v = [val for key, val in my_dict.items()]"
   ]
  },
  {
   "cell_type": "code",
   "execution_count": 22,
   "metadata": {},
   "outputs": [
    {
     "data": {
      "text/plain": [
       "140608"
      ]
     },
     "execution_count": 22,
     "metadata": {},
     "output_type": "execute_result"
    }
   ],
   "source": [
    "\n",
    "len(my_dict)"
   ]
  },
  {
   "cell_type": "code",
   "execution_count": 23,
   "metadata": {},
   "outputs": [
    {
     "data": {
      "text/plain": [
       "140608"
      ]
     },
     "execution_count": 23,
     "metadata": {},
     "output_type": "execute_result"
    }
   ],
   "source": [
    "52**3"
   ]
  },
  {
   "cell_type": "raw",
   "metadata": {},
   "source": [
    "What should I do here? - math\n",
    "\n",
    "\n",
    "Input  -> Output\n",
    "\n",
    "2 -> 2\n",
    "0.2 -> -2\n",
    "0.02 -> -20\n",
    "0.002 -> -200\n",
    "0.0002 -> -2000\n",
    "\n",
    "Above you see what I expect to realise. I need a function which handles all values below 1 according to the schema. \n",
    "\n",
    "My question is if I do know that input is smaller than 1 but never 0, how can I calculate the output? I am searching for a variable/code that helps me out for that"
   ]
  },
  {
   "cell_type": "code",
   "execution_count": 24,
   "metadata": {
    "scrolled": true
   },
   "outputs": [
    {
     "name": "stdout",
     "output_type": "stream",
     "text": [
      "2 -> 2\n",
      "0.2 -> -2\n",
      "0.02 -> -20\n",
      "0.002 -> -200\n",
      "0.0002 -> -2000\n",
      "-17.208\n"
     ]
    }
   ],
   "source": [
    "from decimal import Decimal\n",
    "import math\n",
    "\n",
    "def transform(x):\n",
    "    if x <= 0:\n",
    "        raise ValueError(f\"Expected positive value: '{x}' given.\")\n",
    "    if x >= 1:\n",
    "        return x\n",
    "    return \n",
    "\n",
    "def transform2(x):\n",
    "    if x <= 0:\n",
    "        raise ValueError(f\"Expected positive value: '{x}' given.\")\n",
    "    if x >= 1:\n",
    "        return x\n",
    "    intpow = 2 * round(math.log10(x)) + 1\n",
    "    if (precision := len(str(x)) - 2 + intpow) > 0:\n",
    "        return -round(x * 10**-intpow, precision)\n",
    "    return -int(x * 10**-intpow)\n",
    "\n",
    "\n",
    "for i in range(5):\n",
    "    print(f\"{2*10**-i} -> {transform2(2*10**-i)}\")\n",
    "    \n",
    "print(transform2(0.017208))"
   ]
  },
  {
   "cell_type": "raw",
   "metadata": {},
   "source": [
    "Can you provide a small code example? What if input = 0.017208"
   ]
  },
  {
   "cell_type": "code",
   "execution_count": 25,
   "metadata": {},
   "outputs": [],
   "source": [
    "\n",
    "#transform2(0.2)\n",
    "#math.modf(transform2(0.0002))[0] == 0"
   ]
  },
  {
   "cell_type": "code",
   "execution_count": 26,
   "metadata": {},
   "outputs": [
    {
     "data": {
      "text/plain": [
       "0"
      ]
     },
     "execution_count": 26,
     "metadata": {},
     "output_type": "execute_result"
    }
   ],
   "source": [
    "round((5*math.pi/6) % (math.pi/6))"
   ]
  },
  {
   "cell_type": "code",
   "execution_count": 28,
   "metadata": {},
   "outputs": [
    {
     "ename": "SyntaxError",
     "evalue": "invalid decimal literal (2556516002.py, line 2)",
     "output_type": "error",
     "traceback": [
      "\u001b[0;36m  Cell \u001b[0;32mIn [28], line 2\u001b[0;36m\u001b[0m\n\u001b[0;31m    2e-i\u001b[0m\n\u001b[0m      ^\u001b[0m\n\u001b[0;31mSyntaxError\u001b[0m\u001b[0;31m:\u001b[0m invalid decimal literal\n"
     ]
    }
   ],
   "source": [
    "i=0\n",
    "2e-i"
   ]
  },
  {
   "cell_type": "code",
   "execution_count": 29,
   "metadata": {},
   "outputs": [
    {
     "ename": "NameError",
     "evalue": "name 'tick' is not defined",
     "output_type": "error",
     "traceback": [
      "\u001b[0;31m---------------------------------------------------------------------------\u001b[0m",
      "\u001b[0;31mNameError\u001b[0m                                 Traceback (most recent call last)",
      "Cell \u001b[0;32mIn [29], line 1\u001b[0m\n\u001b[0;32m----> 1\u001b[0m \u001b[38;5;28;01mif\u001b[39;00m \u001b[43mtick\u001b[49m \u001b[38;5;241m%\u001b[39m \u001b[38;5;241m5\u001b[39m \u001b[38;5;241m==\u001b[39m \u001b[38;5;241m0\u001b[39m:\n\u001b[1;32m      2\u001b[0m     theta \u001b[38;5;241m=\u001b[39m tick\u001b[38;5;241m/\u001b[39m\u001b[38;5;241m60\u001b[39m \u001b[38;5;241m*\u001b[39m \u001b[38;5;241m2\u001b[39m \u001b[38;5;241m*\u001b[39m pi\n",
      "\u001b[0;31mNameError\u001b[0m: name 'tick' is not defined"
     ]
    }
   ],
   "source": [
    "\n",
    "    if tick % 5 == 0:\n",
    "        theta = tick/60 * 2 * pi"
   ]
  },
  {
   "cell_type": "code",
   "execution_count": 30,
   "metadata": {},
   "outputs": [
    {
     "name": "stdout",
     "output_type": "stream",
     "text": [
      "  17.279\n",
      "23.75829\n",
      "87.11375\n"
     ]
    }
   ],
   "source": [
    "\n",
    "r = 2.750\n",
    "\n",
    "\n",
    "# Circumference of circle = 2*pi*r\n",
    "\n",
    "c = 2 * math.pi * r\n",
    "\n",
    "print('{0:8.5g}'.format(c))\n",
    "\n",
    "# Area of circle = pi * r**2\n",
    "\n",
    "a = math.pi * r **2\n",
    "\n",
    "print('{:.5f}'.format(a))\n",
    "\n",
    "# Volume of a circle\n",
    "\n",
    "v = 4/3 * math.pi * r**3\n",
    "\n",
    "print('{0:.5f}'.format(v))"
   ]
  },
  {
   "cell_type": "code",
   "execution_count": 31,
   "metadata": {},
   "outputs": [
    {
     "name": "stderr",
     "output_type": "stream",
     "text": [
      "<>:1: SyntaxWarning: \"is\" with a literal. Did you mean \"==\"?\n",
      "<>:1: SyntaxWarning: \"is\" with a literal. Did you mean \"==\"?\n",
      "/private/var/mobile/Containers/Data/Application/C6C0126D-DFE5-4C45-B284-3B7C888DDD93/tmp/ipykernel_2679/3482963539.py:1: SyntaxWarning: \"is\" with a literal. Did you mean \"==\"?\n",
      "  1 is True\n"
     ]
    },
    {
     "data": {
      "text/plain": [
       "False"
      ]
     },
     "execution_count": 31,
     "metadata": {},
     "output_type": "execute_result"
    }
   ],
   "source": [
    "1 is True"
   ]
  },
  {
   "cell_type": "code",
   "execution_count": 32,
   "metadata": {},
   "outputs": [
    {
     "data": {
      "text/plain": [
       "True"
      ]
     },
     "execution_count": 32,
     "metadata": {},
     "output_type": "execute_result"
    }
   ],
   "source": [
    "a = 1\n",
    "a is True\n",
    "bool(a) is True"
   ]
  },
  {
   "cell_type": "code",
   "execution_count": 33,
   "metadata": {},
   "outputs": [],
   "source": [
    "zip??"
   ]
  },
  {
   "cell_type": "code",
   "execution_count": 34,
   "metadata": {},
   "outputs": [
    {
     "name": "stdout",
     "output_type": "stream",
     "text": [
      "2.63 µs ± 245 ns per loop (mean ± std. dev. of 7 runs, 10,000 loops each)\n"
     ]
    }
   ],
   "source": [
    "import itertools as it\n",
    "x, y, z, n = 1, 1, 1, 3\n",
    "%timeit [w for w in it.product(range(x + 1), range(y + 1), range(z + 1)) if sum(w) != n]"
   ]
  },
  {
   "cell_type": "code",
   "execution_count": 35,
   "metadata": {},
   "outputs": [
    {
     "name": "stdout",
     "output_type": "stream",
     "text": [
      "3.94 µs ± 1.28 µs per loop (mean ± std. dev. of 7 runs, 100,000 loops each)\n"
     ]
    }
   ],
   "source": [
    "%timeit list(it.filterfalse(lambda triple: sum(triple) == n, it.product(range(x + 1), range(y + 1), range(z + 1))))"
   ]
  },
  {
   "cell_type": "code",
   "execution_count": 36,
   "metadata": {},
   "outputs": [
    {
     "name": "stdout",
     "output_type": "stream",
     "text": [
      "1\n",
      "2\n",
      "3\n",
      "4\n",
      "[[0, 0, 0], [0, 0, 1], [0, 0, 2], [0, 0, 3], [0, 1, 0], [0, 1, 1], [0, 1, 2], [0, 2, 0], [0, 2, 1], [0, 2, 3], [1, 0, 0], [1, 0, 1], [1, 0, 2], [1, 1, 0], [1, 1, 1], [1, 1, 3], [1, 2, 0], [1, 2, 2], [1, 2, 3]]\n"
     ]
    }
   ],
   "source": [
    "x = int(input())\n",
    "y = int(input())\n",
    "z = int(input())\n",
    "n = int(input())\n",
    "\n",
    "the_list = [\n",
    "    [i, j, k]\n",
    "    for i in range(x + 1)\n",
    "    for j in range(y + 1)\n",
    "    for k in range(z + 1)\n",
    "    if sum([i, j, k]) != n\n",
    "]\n",
    "\n",
    "print(the_list)"
   ]
  }
 ],
 "metadata": {
  "kernelspec": {
   "display_name": "Python 3 (ipykernel)",
   "language": "python",
   "name": "python3"
  },
  "language_info": {
   "codemirror_mode": {
    "name": "ipython",
    "version": 3
   },
   "file_extension": ".py",
   "mimetype": "text/x-python",
   "name": "python",
   "nbconvert_exporter": "python",
   "pygments_lexer": "ipython3",
   "version": "3.11.0"
  }
 },
 "nbformat": 4,
 "nbformat_minor": 2
}
