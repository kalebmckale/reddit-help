{
 "cells": [
  {
   "cell_type": "markdown",
   "metadata": {},
   "source": [
    "# Reddit Help #3"
   ]
  },
  {
   "cell_type": "markdown",
   "metadata": {},
   "source": [
    "## While loop help\n",
    "\n",
    "i don't understand how to make a while loop\n",
    "\n",
    "i'm trying to make a while loop but i'm new to python and nothing online helps, here is the current code, if anyone knows what's wrong with it please just edit it and send it back because i don't know how to create a loop. it says i'm having a problem with the line the loop is on (line 16) but i don't know where"
   ]
  },
  {
   "cell_type": "code",
   "execution_count": 2,
   "metadata": {},
   "outputs": [
    {
     "ename": "IndentationError",
     "evalue": "unindent does not match any outer indentation level (<tokenize>, line 16)",
     "output_type": "error",
     "traceback": [
      "\u001b[0;36m  File \u001b[0;32m<tokenize>:16\u001b[0;36m\u001b[0m\n\u001b[0;31m    while:\u001b[0m\n\u001b[0m    ^\u001b[0m\n\u001b[0;31mIndentationError\u001b[0m\u001b[0;31m:\u001b[0m unindent does not match any outer indentation level\n"
     ]
    }
   ],
   "source": [
    "import time\n",
    "\n",
    "def print_pause(message):\n",
    "    print(message)\n",
    "    time.sleep(1)\n",
    "\n",
    "def intro():\n",
    "    print_pause(\"you are a cat, you are sitting in your cozy home.\")\n",
    "    print_pause(\"suddenly, you hear a noise from the kitchen\")\n",
    "    print_pause(\"you decided to investigate\")\n",
    "\n",
    "def kitchen(items):\n",
    "    print_pause(\"you walk into the kitchen and see a rat trying to open the pantry\")\n",
    "    print_pause(\"do you want to attack the mouse, get your owner or get the other cat\")\n",
    "\n",
    "   while:\n",
    "   if choice == 'attack':\n",
    "        print_pause(\"you attack the rat\")\n",
    "        print_pause(\"you hit the rat, it runs away and goes outside\")\n",
    "    break\n",
    "    if choice == 'owner':\n",
    "        print_pause(\"you run to the bedroom and try and get your owners attention\")\n",
    "        print_pause(\"he is sleeping. do what you must, little kitten\")\n",
    "        print_pause(\"WAKE HIM FROM HIS SLUMBER\")\n",
    "        print_pause(\"you wake him up, he isn't happy but you go to the kitchen and find the rat is already gone\")\n",
    "    break\n",
    "    if choice == 'other cat':\n",
    "        print_pause(\"you wake the other cat up, she follows you to the kitchen where she attacks the rat until the rat is badly injured\")\n",
    "        print_pause(\"she drags the rat outside and than leaves it there\")\n",
    "    break       \n",
    "print(\"you have made an invalid choice, try again\")\n",
    "\n",
    "\n",
    "\n",
    "def bedroom(items):\n",
    "    print_pause(\"you go to the bedroom and find the owner now reading his book\")\n",
    "\n",
    "\n",
    "\n",
    "\n",
    "\n",
    "def play_game():\n",
    "    items = []\n",
    "    intro()\n",
    "    kitchen(items)\n",
    "    bedroom(items)\n",
    "\n",
    "    play_game()"
   ]
  }
 ],
 "metadata": {
  "kernelspec": {
   "display_name": "Python 3 (ipykernel)",
   "language": "python",
   "name": "python3"
  },
  "language_info": {
   "codemirror_mode": {
    "name": "ipython",
    "version": 3
   },
   "file_extension": ".py",
   "mimetype": "text/x-python",
   "name": "python",
   "nbconvert_exporter": "python",
   "pygments_lexer": "ipython3",
   "version": "3.11.0"
  }
 },
 "nbformat": 4,
 "nbformat_minor": 2
}
